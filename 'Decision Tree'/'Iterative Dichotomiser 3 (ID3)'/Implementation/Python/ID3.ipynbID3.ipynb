{
  "nbformat": 4,
  "nbformat_minor": 0,
  "metadata": {
    "colab": {
      "provenance": [],
      "gpuType": "V28",
      "authorship_tag": "ABX9TyMU4LabZy8s9UUTXLkOxt+L",
      "include_colab_link": true
    },
    "kernelspec": {
      "name": "python3",
      "display_name": "Python 3"
    },
    "language_info": {
      "name": "python"
    },
    "accelerator": "TPU"
  },
  "cells": [
    {
      "cell_type": "markdown",
      "metadata": {
        "id": "view-in-github",
        "colab_type": "text"
      },
      "source": [
        "<a href=\"https://colab.research.google.com/github/MXMxRazer/Machine-Learning-Models/blob/main/'Decision%20Tree'/'Iterative%20Dichotomiser%203%20(ID3)'/Implementation/Python/ID3.ipynbID3.ipynb\" target=\"_parent\"><img src=\"https://colab.research.google.com/assets/colab-badge.svg\" alt=\"Open In Colab\"/></a>"
      ]
    },
    {
      "cell_type": "code",
      "execution_count": null,
      "metadata": {
        "id": "44Uvg5l8iDZD"
      },
      "outputs": [],
      "source": [
        "import pandas as pd\n",
        "import numpy as np\n",
        "import json"
      ]
    },
    {
      "cell_type": "code",
      "source": [
        "dataset = pd.read_csv('./weather.csv')\n",
        "label = 'Play'\n",
        "class_list = dataset[label].unique()"
      ],
      "metadata": {
        "id": "3VkkzRXHiYJV"
      },
      "execution_count": null,
      "outputs": []
    },
    {
      "cell_type": "code",
      "source": [
        "def calc_total_entrophy(train_data, label, class_list):\n",
        "  total_row = dataset.shape[0]\n",
        "  total_entrophy = 0\n",
        "\n",
        "  for c in class_list:\n",
        "    total_class_count = train_data[train_data[label] == c].shape[0]\n",
        "    total_class_entrophy = - (total_class_count / total_row) *  np.log2(total_class_count / total_row)\n",
        "    total_entrophy += total_class_entrophy\n",
        "\n",
        "  return total_entrophy\n"
      ],
      "metadata": {
        "id": "wGPMENmSkE7n"
      },
      "execution_count": null,
      "outputs": []
    },
    {
      "cell_type": "code",
      "source": [
        "print(f\"Total Entrophy: {calc_total_entrophy(dataset, label, class_list)}\")"
      ],
      "metadata": {
        "colab": {
          "base_uri": "https://localhost:8080/"
        },
        "id": "evuJG0E5_on5",
        "outputId": "67496f81-7c87-4e95-8be4-d83d88ff23c3"
      },
      "execution_count": null,
      "outputs": [
        {
          "output_type": "stream",
          "name": "stdout",
          "text": [
            "Total Entrophy: 0.9402859586706311\n"
          ]
        }
      ]
    },
    {
      "cell_type": "code",
      "source": [
        "def calc_entrophy(feature_data, label, class_list):\n",
        "  class_count = feature_data.shape[0]\n",
        "  entrophy = 0\n",
        "\n",
        "  for c in class_list:\n",
        "    total_class_count = feature_data[feature_data[label] == c].shape[0]\n",
        "    if total_class_count != 0:\n",
        "      probability_class = (total_class_count / class_count)\n",
        "      entrophy_class = - probability_class * np.log2(probability_class)\n",
        "      entrophy += entrophy_class\n",
        "  return entrophy\n"
      ],
      "metadata": {
        "id": "hizaFVsvADuF"
      },
      "execution_count": null,
      "outputs": []
    },
    {
      "cell_type": "code",
      "source": [
        "print(f\"Entrophy: {calc_entrophy(dataset[dataset['Outlook'] == 'Sunny'], label, class_list)}\")"
      ],
      "metadata": {
        "colab": {
          "base_uri": "https://localhost:8080/"
        },
        "id": "RVpcUvbeZbH6",
        "outputId": "a173c3cd-7224-46ee-936d-6282b23a0a59"
      },
      "execution_count": null,
      "outputs": [
        {
          "output_type": "stream",
          "name": "stdout",
          "text": [
            "Entrophy: 0.9709505944546686\n"
          ]
        }
      ]
    },
    {
      "cell_type": "code",
      "source": [
        "def calc_info_gain(feature_name, train_data, label, class_list):\n",
        "  feature_value_list = train_data[feature_name].unique()\n",
        "  total_rows = train_data.shape[0]\n",
        "  feature_info = 0\n",
        "\n",
        "  for feature_value in feature_value_list:\n",
        "    feature_value_data = train_data[train_data[feature_name] == feature_value]\n",
        "    feature_value_count = feature_value_data.shape[0]\n",
        "    feature_value_entrophy = calc_entrophy(feature_value_data, label, class_list)\n",
        "    feature_value_probability = feature_value_count / total_rows\n",
        "    feature_info += feature_value_probability * feature_value_entrophy\n",
        "\n",
        "  return calc_total_entrophy(train_data, label, class_list) - feature_info\n"
      ],
      "metadata": {
        "id": "rOIr2mcRcRT4"
      },
      "execution_count": null,
      "outputs": []
    },
    {
      "cell_type": "code",
      "source": [
        "def most_informative_feature(train_data, label, class_list):\n",
        "  feature_list = train_data.columns.drop(label)\n",
        "\n",
        "  max_info_gain = -1\n",
        "  max_info_feature = None\n",
        "\n",
        "  for feature in feature_list:\n",
        "    info_gain = calc_info_gain(feature, train_data, label, class_list)\n",
        "    if max_info_gain < info_gain:\n",
        "      max_info_gain = info_gain\n",
        "      max_info_feature = feature\n",
        "\n",
        "  return max_info_feature"
      ],
      "metadata": {
        "id": "IBAA4fdEroN_"
      },
      "execution_count": null,
      "outputs": []
    },
    {
      "cell_type": "code",
      "source": [
        "feature_dict = dataset['Outlook'].value_counts(sort=False)\n",
        "\n",
        "for feature, count in feature_dict.items():\n",
        "  print(f\"Feature: {feature} Count: {count}\")"
      ],
      "metadata": {
        "colab": {
          "base_uri": "https://localhost:8080/"
        },
        "id": "3T4u4SnLuEaC",
        "outputId": "730cd35d-26ab-498c-9182-a70c653cb22a"
      },
      "execution_count": null,
      "outputs": [
        {
          "output_type": "stream",
          "name": "stdout",
          "text": [
            "Feature: Sunny Count: 5\n",
            "Feature: Overcast Count: 4\n",
            "Feature: Rain Count: 5\n"
          ]
        }
      ]
    },
    {
      "cell_type": "code",
      "source": [
        "def generate_sub_tree(feature_name, train_data, label, class_list):\n",
        "  feature_value_count = train_data[feature_name].value_counts(sort=False)\n",
        "  tree = {}\n",
        "\n",
        "  for feature_value, count in feature_value_count.items():\n",
        "    feature_value_data = train_data[train_data[feature_name] == feature_value]\n",
        "\n",
        "    node_assigned = False\n",
        "\n",
        "    for c in class_list:\n",
        "      class_count = feature_value_data[feature_value_data[label] == c].shape[0]\n",
        "\n",
        "      if class_count == count:\n",
        "        tree[feature_value] = c\n",
        "        train_data = train_data[train_data[feature_name] != feature_value]\n",
        "        node_assigned = True\n",
        "\n",
        "    if not node_assigned:\n",
        "      tree[feature_value] = '?'\n",
        "\n",
        "  return train_data, tree"
      ],
      "metadata": {
        "id": "sXN120FGwmt2"
      },
      "execution_count": null,
      "outputs": []
    },
    {
      "cell_type": "code",
      "source": [
        "train_data, tree = generate_sub_tree('Outlook', dataset[dataset['Outlook'] == 'Sunny'], label, class_list)\n",
        "print(f\"Train Data: {train_data} \\n Tree: {tree}\")"
      ],
      "metadata": {
        "colab": {
          "base_uri": "https://localhost:8080/"
        },
        "id": "JyPImJ7hHnxh",
        "outputId": "66a1bacc-21c5-435f-d3cd-9c6475183c8f"
      },
      "execution_count": null,
      "outputs": [
        {
          "output_type": "stream",
          "name": "stdout",
          "text": [
            "Train Data:    Outlook Temperature Humidity    Wind Play\n",
            "0    Sunny         Hot     High    Weak   No\n",
            "1    Sunny         Hot     High  Strong   No\n",
            "7    Sunny        Mild     High    Weak   No\n",
            "8    Sunny        Cool   Normal    Weak  Yes\n",
            "10   Sunny        Mild   Normal  Strong  Yes \n",
            " Tree: {'Sunny': '?'}\n"
          ]
        }
      ]
    },
    {
      "cell_type": "code",
      "source": [
        "def create_tree(root, prev_feature_name, train_data, label, class_list):\n",
        "  if train_data.shape[0] != 0:\n",
        "    max_info_feature = most_informative_feature(train_data, label, class_list)\n",
        "    train_data, tree = generate_sub_tree(max_info_feature, train_data, label, class_list)\n",
        "    next_root = None\n",
        "\n",
        "  if prev_feature_name != None:\n",
        "    root[prev_feature_name] = dict()\n",
        "    root[prev_feature_name][max_info_feature] = tree\n",
        "    next_root = root[prev_feature_name][max_info_feature]\n",
        "  else:\n",
        "    root[max_info_feature] = tree\n",
        "    next_root = root[max_info_feature]\n",
        "\n",
        "  for node, branch in list(next_root.items()):\n",
        "    if branch == \"?\":\n",
        "      feature_value_data = train_data[train_data[max_info_feature] == node]\n",
        "      create_tree(next_root, node, feature_value_data, label, class_list)"
      ],
      "metadata": {
        "id": "RVc10MaG5I4_"
      },
      "execution_count": null,
      "outputs": []
    },
    {
      "cell_type": "code",
      "source": [
        "def id3(train_data, label):\n",
        "    tree = {}\n",
        "    class_list = train_data[label].unique()\n",
        "    create_tree(tree, None, train_data, label, class_list)\n",
        "    return tree"
      ],
      "metadata": {
        "id": "rrFmf0iLE5jC"
      },
      "execution_count": null,
      "outputs": []
    },
    {
      "cell_type": "code",
      "source": [
        "tree = id3(dataset, 'Play')\n",
        "tree_json = json.dumps(tree, indent=4)"
      ],
      "metadata": {
        "id": "GChDmS44GPSK"
      },
      "execution_count": null,
      "outputs": []
    },
    {
      "cell_type": "code",
      "source": [
        "print(tree_json)"
      ],
      "metadata": {
        "colab": {
          "base_uri": "https://localhost:8080/"
        },
        "id": "KoFUGsSBGk9I",
        "outputId": "dfc6b75e-ce51-4746-c366-f4abb52f64ce"
      },
      "execution_count": null,
      "outputs": [
        {
          "output_type": "stream",
          "name": "stdout",
          "text": [
            "{\n",
            "    \"Outlook\": {\n",
            "        \"Sunny\": {\n",
            "            \"Humidity\": {\n",
            "                \"High\": \"No\",\n",
            "                \"Normal\": \"Yes\"\n",
            "            }\n",
            "        },\n",
            "        \"Overcast\": \"Yes\",\n",
            "        \"Rain\": {\n",
            "            \"Wind\": {\n",
            "                \"Weak\": \"Yes\",\n",
            "                \"Strong\": \"No\"\n",
            "            }\n",
            "        }\n",
            "    }\n",
            "}\n"
          ]
        }
      ]
    }
  ]
}